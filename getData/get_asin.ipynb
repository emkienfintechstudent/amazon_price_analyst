{
 "cells": [
  {
   "cell_type": "code",
   "execution_count": 1,
   "metadata": {},
   "outputs": [],
   "source": [
    "import pandas as pd\n",
    "import requests"
   ]
  },
  {
   "cell_type": "code",
   "execution_count": 2,
   "metadata": {},
   "outputs": [],
   "source": [
    "df = pd.read_csv('amazon_products.csv')"
   ]
  },
  {
   "cell_type": "code",
   "execution_count": 3,
   "metadata": {},
   "outputs": [],
   "source": [
    "url = df['url'] "
   ]
  },
  {
   "cell_type": "code",
   "execution_count": 4,
   "metadata": {},
   "outputs": [
    {
     "data": {
      "text/plain": [
       "0       https://www.amazon.com/iRobot-Roomba-Robot-Vac...\n",
       "1       https://www.amazon.com/Robot-Vacuum-Mop-Combo-...\n",
       "2       https://www.amazon.com/eufy-Super-Thin-Super-S...\n",
       "3       https://www.amazon.com/iRobot-Roomba-Essential...\n",
       "4       https://www.amazon.com/iRobot-Self-Emptying-Ma...\n",
       "                              ...                        \n",
       "2149    https://www.amazon.com/sspa/click?ie=UTF8&spc=...\n",
       "2150    https://www.amazon.com/sspa/click?ie=UTF8&spc=...\n",
       "2151    https://www.amazon.com/sspa/click?ie=UTF8&spc=...\n",
       "2152    https://www.amazon.com/sspa/click?ie=UTF8&spc=...\n",
       "2153    https://www.amazon.com/sspa/click?ie=UTF8&spc=...\n",
       "Name: url, Length: 2154, dtype: object"
      ]
     },
     "execution_count": 4,
     "metadata": {},
     "output_type": "execute_result"
    }
   ],
   "source": [
    "url"
   ]
  },
  {
   "cell_type": "code",
   "execution_count": 5,
   "metadata": {},
   "outputs": [
    {
     "name": "stdout",
     "output_type": "stream",
     "text": [
      "                                                    url        ASIN\n",
      "0     https://www.amazon.com/iRobot-Roomba-Robot-Vac...  B0CVM8TXHP\n",
      "1     https://www.amazon.com/Robot-Vacuum-Mop-Combo-...  B0D87G9YYF\n",
      "2     https://www.amazon.com/eufy-Super-Thin-Super-S...  B07R295MLS\n",
      "3     https://www.amazon.com/iRobot-Roomba-Essential...  B0CNKX4429\n",
      "4     https://www.amazon.com/iRobot-Self-Emptying-Ma...  B0C4N37V2Z\n",
      "...                                                 ...         ...\n",
      "2149  https://www.amazon.com/sspa/click?ie=UTF8&spc=...        None\n",
      "2150  https://www.amazon.com/sspa/click?ie=UTF8&spc=...        None\n",
      "2151  https://www.amazon.com/sspa/click?ie=UTF8&spc=...        None\n",
      "2152  https://www.amazon.com/sspa/click?ie=UTF8&spc=...        None\n",
      "2153  https://www.amazon.com/sspa/click?ie=UTF8&spc=...        None\n",
      "\n",
      "[2154 rows x 2 columns]\n"
     ]
    }
   ],
   "source": [
    "data = url\n",
    "df = pd.DataFrame(data)\n",
    "\n",
    "# Hàm để trích xuất ASIN từ URL\n",
    "def extract_asin(url):\n",
    "    try:\n",
    "        # Tách chuỗi để tìm phần có \"dp/\" và lấy ASIN sau đó\n",
    "        return url.split(\"/dp/\")[1].split(\"/\")[0]\n",
    "    except IndexError:\n",
    "        return None\n",
    "\n",
    "# Áp dụng hàm để trích xuất ASIN từ cột URL\n",
    "df['ASIN'] = df['url'].apply(extract_asin)\n",
    "\n",
    "# Hiển thị DataFrame với cột ASIN mới\n",
    "print(df)"
   ]
  },
  {
   "cell_type": "code",
   "execution_count": 6,
   "metadata": {},
   "outputs": [
    {
     "name": "stdout",
     "output_type": "stream",
     "text": [
      "0       B0CVM8TXHP\n",
      "1       B0D87G9YYF\n",
      "2       B07R295MLS\n",
      "3       B0CNKX4429\n",
      "4       B0C4N37V2Z\n",
      "           ...    \n",
      "1056    B06XS31V18\n",
      "1057    B0BYWD2HQH\n",
      "1060    B09NPKWDRX\n",
      "1078    B0C5V9D6XZ\n",
      "1079    B0836NSXLF\n",
      "Name: ASIN, Length: 344, dtype: object\n"
     ]
    }
   ],
   "source": [
    "# Lọc các giá trị ASIN không bị null và loại bỏ giá trị trùng lặp\n",
    "asin_non_null_unique = df[df['ASIN'].notnull()]['ASIN'].drop_duplicates()\n",
    "print(asin_non_null_unique)"
   ]
  },
  {
   "cell_type": "code",
   "execution_count": 9,
   "metadata": {},
   "outputs": [],
   "source": [
    "asin_non_null_unique.to_csv('unique_asin.csv', index=False, header=True)"
   ]
  },
  {
   "cell_type": "code",
   "execution_count": 7,
   "metadata": {},
   "outputs": [
    {
     "data": {
      "text/plain": [
       "0       B0CVM8TXHP\n",
       "1       B0D87G9YYF\n",
       "2       B07R295MLS\n",
       "3       B0CNKX4429\n",
       "4       B0C4N37V2Z\n",
       "           ...    \n",
       "1056    B06XS31V18\n",
       "1057    B0BYWD2HQH\n",
       "1060    B09NPKWDRX\n",
       "1078    B0C5V9D6XZ\n",
       "1079    B0836NSXLF\n",
       "Name: ASIN, Length: 344, dtype: object"
      ]
     },
     "execution_count": 7,
     "metadata": {},
     "output_type": "execute_result"
    }
   ],
   "source": [
    "asin_non_null_unique"
   ]
  },
  {
   "cell_type": "code",
   "execution_count": null,
   "metadata": {},
   "outputs": [],
   "source": []
  }
 ],
 "metadata": {
  "kernelspec": {
   "display_name": "base",
   "language": "python",
   "name": "python3"
  },
  "language_info": {
   "codemirror_mode": {
    "name": "ipython",
    "version": 3
   },
   "file_extension": ".py",
   "mimetype": "text/x-python",
   "name": "python",
   "nbconvert_exporter": "python",
   "pygments_lexer": "ipython3",
   "version": "3.9.13"
  }
 },
 "nbformat": 4,
 "nbformat_minor": 2
}
