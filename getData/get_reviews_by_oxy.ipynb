{
 "cells": [
  {
   "cell_type": "code",
   "execution_count": 1,
   "metadata": {},
   "outputs": [],
   "source": [
    "import requests\n",
    "from pprint import pprint"
   ]
  },
  {
   "cell_type": "code",
   "execution_count": 5,
   "metadata": {},
   "outputs": [
    {
     "name": "stdout",
     "output_type": "stream",
     "text": [
      "{'message': 'Unauthorized'}\n"
     ]
    }
   ],
   "source": [
    "# Structure payload.\n",
    "payload = {\n",
    "    'source': 'amazon_reviews',\n",
    "    'domain': 'nl',\n",
    "    'query': 'B09T4YZGQR',\n",
    "    'parse': True,\n",
    "    \n",
    "}\n",
    "\n",
    "\n",
    "# Get response.\n",
    "response = requests.request(\n",
    "    'POST',\n",
    "    'https://realtime.oxylabs.io/v1/queries',\n",
    "    auth=('conbotuan03@gmail.com', '1234567890_Qw'),\n",
    "    json=payload,\n",
    ")\n",
    "\n",
    "# Print prettified response to stdout.\n",
    "pprint(response.json())"
   ]
  },
  {
   "cell_type": "code",
   "execution_count": 7,
   "metadata": {},
   "outputs": [
    {
     "name": "stdout",
     "output_type": "stream",
     "text": [
      "[]\n"
     ]
    }
   ],
   "source": [
    "import requests\n",
    "from bs4 import BeautifulSoup\n",
    "\n",
    "url = \"https://www.amazon.com/Shark-AV2511AE-Self-Empty-Capacity-Navigation/product-reviews/B09T4YZGQR/ref=cm_cr_dp_d_show_all_btm?ie=UTF8&reviewerType=all_reviews\"\n",
    "headers = {\"User-Agent\": \"Mozilla/5.0\"}\n",
    "\n",
    "response = requests.get(url, headers=headers)\n",
    "soup = BeautifulSoup(response.content, \"html.parser\")\n",
    "\n",
    "reviews = []\n",
    "for review in soup.find_all(\"div\", class_=\"review\"):\n",
    "    title = review.find(\"a\", class_=\"review-title\").text.strip()\n",
    "    body = review.find(\"span\", class_=\"review-text-content\").text.strip()\n",
    "    rating = review.find(\"i\", class_=\"review-rating\").text.strip()\n",
    "    reviews.append({\"title\": title, \"body\": body, \"rating\": rating})\n",
    "\n",
    "print(reviews)\n"
   ]
  },
  {
   "cell_type": "code",
   "execution_count": null,
   "metadata": {},
   "outputs": [],
   "source": []
  }
 ],
 "metadata": {
  "kernelspec": {
   "display_name": "base",
   "language": "python",
   "name": "python3"
  },
  "language_info": {
   "codemirror_mode": {
    "name": "ipython",
    "version": 3
   },
   "file_extension": ".py",
   "mimetype": "text/x-python",
   "name": "python",
   "nbconvert_exporter": "python",
   "pygments_lexer": "ipython3",
   "version": "3.9.13"
  }
 },
 "nbformat": 4,
 "nbformat_minor": 2
}
