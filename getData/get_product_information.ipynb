{
 "cells": [
  {
   "cell_type": "code",
   "execution_count": 1,
   "metadata": {},
   "outputs": [],
   "source": [
    "import pandas as pd\n",
    "import requests\n"
   ]
  },
  {
   "cell_type": "code",
   "execution_count": null,
   "metadata": {},
   "outputs": [
    {
     "name": "stdout",
     "output_type": "stream",
     "text": [
      "{'data': {'amazonProduct': {'reviewsPaginated': {'reviews': None}}}}\n"
     ]
    }
   ],
   "source": [
    "\n",
    "\n",
    "# Define the URL of the GraphQL endpoint\n",
    "url = 'https://graphql.canopyapi.co/'\n",
    "\n",
    "# Define the GraphQL query\n",
    "query = \"\"\"\n",
    "query amazonProduct($asin: String!) {\n",
    "  amazonProduct(input: {asin: $asin}) {\n",
    "    reviewsTotal\n",
    "    reviewsPaginated(input: {page: 1}) {\n",
    "      reviews {\n",
    "        title\n",
    "        body\n",
    "        rating\n",
    "        helpfulVotes\n",
    "        reviewer {\n",
    "          name\n",
    "        }\n",
    "      }\n",
    "    }\n",
    "    title\n",
    "    subtitle\n",
    "    brand\n",
    "    asin\n",
    "    url\n",
    "    price {\n",
    "      symbol\n",
    "      value\n",
    "      currency\n",
    "      display\n",
    "    }\n",
    "    categories {\n",
    "      name\n",
    "    }\n",
    "    countryOfOrigin\n",
    "    featureBullets\n",
    "    technicalSpecifications {\n",
    "      name\n",
    "      value\n",
    "    }\n",
    "    salesEstimate {\n",
    "      weeklyUnitSales\n",
    "      monthlyUnitSales\n",
    "      annualUnitSales\n",
    "    }\n",
    "    stockEstimate {\n",
    "      offerId\n",
    "      inStock\n",
    "      stockLevel\n",
    "      availabilityMessage\n",
    "    }\n",
    "  }\n",
    "}\n",
    "\"\"\"\n",
    "\n",
    "headers = {\n",
    "    'Content-Type': 'application/json',\n",
    "    'API-KEY': 'cc52e86c-07ae-4b3a-a14c-d2ed2c93edc4',\n",
    "}\n",
    "\n",
    "variables = {\n",
    "  'asin': 'B07R295MLS',\n",
    "}\n",
    "\n",
    "# Define the request payload\n",
    "payload = {\n",
    "    'query': query,\n",
    "    'variables': variables\n",
    "}\n",
    "\n",
    "# Send the POST request to the GraphQL endpoint\n",
    "response = requests.post(url, json=payload, headers=headers)\n",
    "\n",
    "if response.status_code == 200:\n",
    "    data = response.json()\n",
    "    print(data)\n",
    "else:\n",
    "    print(f\"Query failed to run with a {response.status_code} status code.\")\n",
    "    print(f\"Response: {response.text}\")"
   ]
  },
  {
   "cell_type": "code",
   "execution_count": 4,
   "metadata": {},
   "outputs": [
    {
     "data": {
      "text/plain": [
       "{'data': {'amazonProduct': {'reviewsPaginated': {'reviews': None}}}}"
      ]
     },
     "execution_count": 4,
     "metadata": {},
     "output_type": "execute_result"
    }
   ],
   "source": [
    "data"
   ]
  },
  {
   "cell_type": "code",
   "execution_count": 6,
   "metadata": {},
   "outputs": [
    {
     "name": "stdout",
     "output_type": "stream",
     "text": [
      "{'errors': [{'message': \"Cannot read properties of undefined (reading 'reviews_total')\", 'locations': [{'line': 4, 'column': 5}], 'path': ['amazonProduct', 'reviewsTotal']}], 'data': {'amazonProduct': {'reviewsTotal': None}}}\n"
     ]
    }
   ],
   "source": [
    "\n",
    "\n",
    "# Define the URL of the GraphQL endpoint\n",
    "url = 'https://graphql.canopyapi.co/'\n",
    "\n",
    "# Define the GraphQL query\n",
    "query = \"\"\"\n",
    "query amazonProduct($asin: String!) {\n",
    "  amazonProduct(input: {asin: $asin}) {\n",
    "    reviewsTotal\n",
    "\n",
    "  }\n",
    "}\n",
    "\"\"\"\n",
    "\n",
    "headers = {\n",
    "    'Content-Type': 'application/json',\n",
    "    'API-KEY': 'cc52e86c-07ae-4b3a-a14c-d2ed2c93edc4',\n",
    "}\n",
    "\n",
    "variables = {\n",
    "  'asin': 'B07R295MLS',\n",
    "}\n",
    "\n",
    "# Define the request payload\n",
    "payload = {\n",
    "    'query': query,\n",
    "    'variables': variables\n",
    "}\n",
    "\n",
    "# Send the POST request to the GraphQL endpoint\n",
    "response = requests.post(url, json=payload, headers=headers)\n",
    "\n",
    "if response.status_code == 200:\n",
    "    data1 = response.json()\n",
    "    print(data1)\n",
    "else:\n",
    "    print(f\"Query failed to run with a {response.status_code} status code.\")\n",
    "    print(f\"Response: {response.text}\")"
   ]
  },
  {
   "cell_type": "code",
   "execution_count": null,
   "metadata": {},
   "outputs": [],
   "source": []
  }
 ],
 "metadata": {
  "kernelspec": {
   "display_name": "base",
   "language": "python",
   "name": "python3"
  },
  "language_info": {
   "codemirror_mode": {
    "name": "ipython",
    "version": 3
   },
   "file_extension": ".py",
   "mimetype": "text/x-python",
   "name": "python",
   "nbconvert_exporter": "python",
   "pygments_lexer": "ipython3",
   "version": "3.9.13"
  }
 },
 "nbformat": 4,
 "nbformat_minor": 2
}
