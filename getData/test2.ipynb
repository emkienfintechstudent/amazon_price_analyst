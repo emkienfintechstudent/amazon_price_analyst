{
 "cells": [
  {
   "cell_type": "code",
   "execution_count": 1,
   "metadata": {},
   "outputs": [],
   "source": [
    "import requests"
   ]
  },
  {
   "cell_type": "code",
   "execution_count": 1,
   "metadata": {},
   "outputs": [
    {
     "name": "stdout",
     "output_type": "stream",
     "text": [
      "{'data': {'amazonProduct': {'title': 'eufy Robot Vacuum 11S MAX, Super Thin, Powerful Suction, Quiet, Self-Charging Robotic Vacuum Cleaner, Cleans Hard Floors to Medium-Pile Carpets, Black', 'mainImageUrl': 'https://m.media-amazon.com/images/I/7162dbcZW3L.jpg', 'rating': 4.3, 'price': {'display': '$249.99'}}}}\n"
     ]
    }
   ],
   "source": [
    "\n",
    "\n",
    "# Define the URL of the GraphQL endpoint\n",
    "url = 'https://graphql.canopyapi.co/'\n",
    "\n",
    "# Define the GraphQL query\n",
    "query = \"\"\"\n",
    "query amazonProduct($asin: String!) {\n",
    "  amazonProduct(input: {asin: $asin}) {\n",
    "    title\n",
    "    mainImageUrl\n",
    "    rating\n",
    "    price {\n",
    "      display\n",
    "    }\n",
    "  }\n",
    "}\n",
    "\"\"\"\n",
    "\n",
    "headers = {\n",
    "    'Content-Type': 'application/json',\n",
    "    'API-KEY': 'cc52e86c-07ae-4b3a-a14c-d2ed2c93edc4',\n",
    "}\n",
    "\n",
    "variables = {\n",
    "  'asin': 'B07R295MLS',\n",
    "}\n",
    "\n",
    "# Define the request payload\n",
    "payload = {\n",
    "    'query': query,\n",
    "    'variables': variables\n",
    "}\n",
    "\n",
    "# Send the POST request to the GraphQL endpoint\n",
    "response = requests.post(url, json=payload, headers=headers)\n",
    "\n",
    "if response.status_code == 200:\n",
    "    data = response.json()\n",
    "    print(data)\n",
    "else:\n",
    "    print(f\"Query failed to run with a {response.status_code} status code.\")\n",
    "    print(f\"Response: {response.text}\")"
   ]
  },
  {
   "cell_type": "code",
   "execution_count": 2,
   "metadata": {},
   "outputs": [
    {
     "data": {
      "text/plain": [
       "{'data': {'amazonProduct': {'title': 'eufy Robot Vacuum 11S MAX, Super Thin, Powerful Suction, Quiet, Self-Charging Robotic Vacuum Cleaner, Cleans Hard Floors to Medium-Pile Carpets, Black',\n",
       "   'mainImageUrl': 'https://m.media-amazon.com/images/I/7162dbcZW3L.jpg',\n",
       "   'rating': 4.3,\n",
       "   'price': {'display': '$249.99'}}}}"
      ]
     },
     "execution_count": 2,
     "metadata": {},
     "output_type": "execute_result"
    }
   ],
   "source": [
    "data"
   ]
  },
  {
   "cell_type": "code",
   "execution_count": 3,
   "metadata": {},
   "outputs": [
    {
     "name": "stdout",
     "output_type": "stream",
     "text": [
      "{'data': {'amazonProduct': {'salesEstimate': {'weeklyUnitSales': 2851, 'monthlyUnitSales': 11406, 'annualUnitSales': 136872}}}}\n"
     ]
    }
   ],
   "source": [
    "\n",
    "\n",
    "# Define the URL of the GraphQL endpoint\n",
    "url = 'https://graphql.canopyapi.co/'\n",
    "\n",
    "# Define the GraphQL query\n",
    "query = \"\"\"\n",
    "query amazonProduct($asin: String!) {\n",
    "  amazonProduct(input: {asin: $asin}) {\n",
    "     salesEstimate {\n",
    "      weeklyUnitSales\n",
    "      monthlyUnitSales\n",
    "      annualUnitSales\n",
    "    }\n",
    "  }\n",
    "}\n",
    "\"\"\"\n",
    "\n",
    "headers = {\n",
    "    'Content-Type': 'application/json',\n",
    "    'API-KEY': 'cc52e86c-07ae-4b3a-a14c-d2ed2c93edc4',\n",
    "}\n",
    "\n",
    "variables = {\n",
    "  'asin': 'B07R295MLS',\n",
    "}\n",
    "\n",
    "# Define the request payload\n",
    "payload = {\n",
    "    'query': query,\n",
    "    'variables': variables\n",
    "}\n",
    "\n",
    "# Send the POST request to the GraphQL endpoint\n",
    "response = requests.post(url, json=payload, headers=headers)\n",
    "\n",
    "if response.status_code == 200:\n",
    "    data = response.json()\n",
    "    print(data)\n",
    "else:\n",
    "    print(f\"Query failed to run with a {response.status_code} status code.\")\n",
    "    print(f\"Response: {response.text}\")\n"
   ]
  },
  {
   "cell_type": "markdown",
   "metadata": {},
   "source": [
    "## Reviews and rating"
   ]
  },
  {
   "cell_type": "code",
   "execution_count": 2,
   "metadata": {},
   "outputs": [
    {
     "name": "stdout",
     "output_type": "stream",
     "text": [
      "{'data': {'amazonProduct': {'rating': 4.3, 'ratingsTotal': 66046, 'ratingsBreakdown': {'oneStarRatingsCount': 4623, 'twoStarRatingsCount': 2641, 'threeStarRatingsCount': 4623, 'fourStarRatingsCount': 10567, 'fiveStarRatingsCount': 43590}}}}\n"
     ]
    }
   ],
   "source": [
    "\n",
    "\n",
    "# Define the URL of the GraphQL endpoint\n",
    "url = 'https://graphql.canopyapi.co/'\n",
    "\n",
    "# Define the GraphQL query\n",
    "query = \"\"\"\n",
    "query amazonProduct($asin: String!) {\n",
    "  amazonProduct(input: {asin: $asin}) {\n",
    "       rating \n",
    "              ratingsTotal\n",
    "              ratingsBreakdown{\n",
    "                oneStarRatingsCount\n",
    "                twoStarRatingsCount\n",
    "                threeStarRatingsCount\n",
    "                fourStarRatingsCount\n",
    "                fiveStarRatingsCount\n",
    "              }\n",
    "  }\n",
    "}\n",
    "\"\"\"\n",
    "\n",
    "headers = {\n",
    "    'Content-Type': 'application/json',\n",
    "    'API-KEY': 'cc52e86c-07ae-4b3a-a14c-d2ed2c93edc4',\n",
    "}\n",
    "\n",
    "variables = {\n",
    "  'asin': 'B07R295MLS',\n",
    "}\n",
    "\n",
    "# Define the request payload\n",
    "payload = {\n",
    "    'query': query,\n",
    "    'variables': variables\n",
    "}\n",
    "\n",
    "# Send the POST request to the GraphQL endpoint\n",
    "response = requests.post(url, json=payload, headers=headers)\n",
    "\n",
    "if response.status_code == 200:\n",
    "    data = response.json()\n",
    "    print(data)\n",
    "else:\n",
    "    print(f\"Query failed to run with a {response.status_code} status code.\")\n",
    "    print(f\"Response: {response.text}\")\n"
   ]
  },
  {
   "cell_type": "code",
   "execution_count": null,
   "metadata": {},
   "outputs": [],
   "source": []
  }
 ],
 "metadata": {
  "kernelspec": {
   "display_name": "base",
   "language": "python",
   "name": "python3"
  },
  "language_info": {
   "codemirror_mode": {
    "name": "ipython",
    "version": 3
   },
   "file_extension": ".py",
   "mimetype": "text/x-python",
   "name": "python",
   "nbconvert_exporter": "python",
   "pygments_lexer": "ipython3",
   "version": "3.9.13"
  }
 },
 "nbformat": 4,
 "nbformat_minor": 2
}
