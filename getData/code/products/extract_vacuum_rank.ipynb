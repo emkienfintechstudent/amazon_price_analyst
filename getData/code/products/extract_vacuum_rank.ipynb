{
 "cells": [
  {
   "cell_type": "code",
   "execution_count": 11,
   "metadata": {},
   "outputs": [],
   "source": [
    "import numpy as np\n",
    "import pandas as pd\n",
    "import re"
   ]
  },
  {
   "cell_type": "code",
   "execution_count": 3,
   "metadata": {},
   "outputs": [],
   "source": [
    "df = pd.read_csv('../../data/product_data.csv')"
   ]
  },
  {
   "cell_type": "code",
   "execution_count": 17,
   "metadata": {},
   "outputs": [],
   "source": [
    "# Hàm để trích xuất rank của Robotic Vacuums, nếu có\n",
    "def extract_robotic_vacuums_rank(text):\n",
    "    if isinstance(text, str):  # Kiểm tra nếu giá trị là chuỗi\n",
    "        match = re.search(r'Robotic Vacuums \\(Rank: (\\d+)\\)', text)\n",
    "        if match:\n",
    "            return int(match.group(1))  # Trả về rank nếu tìm thấy\n",
    "    return None  # Nếu không tìm thấy hoặc không phải chuỗi, trả về None"
   ]
  },
  {
   "cell_type": "code",
   "execution_count": 18,
   "metadata": {},
   "outputs": [],
   "source": [
    "df['robotic_vacuums_rank'] = df['Best Seller Rankings'].apply(extract_robotic_vacuums_rank)\n"
   ]
  },
  {
   "cell_type": "code",
   "execution_count": 23,
   "metadata": {},
   "outputs": [],
   "source": [
    "df.to_csv('../../data/product_data_vaccum_ranking.csv',index=False)"
   ]
  },
  {
   "cell_type": "code",
   "execution_count": null,
   "metadata": {},
   "outputs": [],
   "source": []
  }
 ],
 "metadata": {
  "kernelspec": {
   "display_name": "base",
   "language": "python",
   "name": "python3"
  },
  "language_info": {
   "codemirror_mode": {
    "name": "ipython",
    "version": 3
   },
   "file_extension": ".py",
   "mimetype": "text/x-python",
   "name": "python",
   "nbconvert_exporter": "python",
   "pygments_lexer": "ipython3",
   "version": "3.9.13"
  }
 },
 "nbformat": 4,
 "nbformat_minor": 2
}
