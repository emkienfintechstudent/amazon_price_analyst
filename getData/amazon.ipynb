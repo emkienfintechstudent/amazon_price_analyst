{
 "cells": [
  {
   "cell_type": "code",
   "execution_count": 16,
   "metadata": {},
   "outputs": [],
   "source": [
    "from selenium import webdriver\n",
    "from selenium.webdriver.chrome.service import Service\n",
    "from selenium.webdriver.common.by import By  # Thêm dòng này\n",
    "from selenium.common.exceptions import NoSuchElementException, StaleElementReferenceException\n",
    "import requests\n",
    "# Đường dẫn đến chromedriver\n",
    "service = Service('D:\\chromedriver-win64\\chromedriver.exe')\n",
    "from selenium.webdriver.support.ui import WebDriverWait   \n",
    "from selenium.webdriver.support import expected_conditions as  EC\n",
    "import time\n",
    "from selenium.webdriver.common.keys import Keys"
   ]
  },
  {
   "cell_type": "code",
   "execution_count": 32,
   "metadata": {},
   "outputs": [],
   "source": [
    "driver = webdriver.Chrome(service=service)"
   ]
  },
  {
   "cell_type": "code",
   "execution_count": 33,
   "metadata": {},
   "outputs": [],
   "source": [
    "driver.get('https://www.amazon.com/Shark-AV2511AE-Self-Empty-Capacity-Navigation/dp/B09T4YZGQR/ref=sr_1_4?crid=30MF4JU2TCN20&dib=eyJ2IjoiMSJ9.NCqPDGNYIZBcRUzvJ3KcSt8VQzG8lLBi5cSGkmXRp8orN1v9vVWJfUglHHnqp-U-gUQRpAGH86DrbHzjr569TPSHTItdHjQVT5Wh1Fbssv4mSyTdk5lgh3btMqnEFvJ1u-RSAZm91XaH0XNqpzQMgMsGGLZKLh3IBEqk0M3cb4bFY8PnZQwq1wbrGYrw8K6KSNku8qPinwMg-M7E5eMf5gNJLQqtEQ2cS5B6csUoKQA.cxY6e1vg6_0_BrE-7EZodczlW4auu-lNVwW7FxIRR0Q&dib_tag=se&keywords=robot%2Bvacuum%2Bcleaner&qid=1724672147&sprefix=robot%2Bvacu%2Caps%2C388&sr=8-4&th=1')"
   ]
  },
  {
   "cell_type": "markdown",
   "metadata": {},
   "source": [
    "### cuộn xuống đến show more reviews"
   ]
  },
  {
   "cell_type": "code",
   "execution_count": 40,
   "metadata": {},
   "outputs": [],
   "source": [
    "element = driver.find_element(By.XPATH, '//*[@id=\"cr-pagination-footer-0\"]/a')  # Thay XPath bằng phần tử của bạn\n",
    "driver.execute_script(\"arguments[0].scrollIntoView(true);\", element)\n",
    "\n"
   ]
  },
  {
   "cell_type": "code",
   "execution_count": 42,
   "metadata": {},
   "outputs": [],
   "source": [
    "link = driver.find_element(By.XPATH, '//*[@id=\"cr-pagination-footer-0\"]/a')  # Thay href bằng liên kết thực tế\n",
    "link.click()"
   ]
  },
  {
   "cell_type": "markdown",
   "metadata": {},
   "source": [
    "### cuộn xuống đến all stars"
   ]
  },
  {
   "cell_type": "code",
   "execution_count": 44,
   "metadata": {},
   "outputs": [],
   "source": [
    "element = driver.find_element(By.XPATH, '//*[@id=\"a-autoid-8-announce\"]')  # Thay XPath bằng phần tử của bạn\n",
    "driver.execute_script(\"arguments[0].scrollIntoView(true);\", element)\n"
   ]
  },
  {
   "cell_type": "code",
   "execution_count": 45,
   "metadata": {},
   "outputs": [],
   "source": [
    "five_stars = driver.find_element(By.XPATH, '//*[@id=\"star-count-dropdown_1\"]')\n",
    "five_stars.click()"
   ]
  },
  {
   "cell_type": "markdown",
   "metadata": {},
   "source": []
  },
  {
   "cell_type": "markdown",
   "metadata": {},
   "source": [
    "### 5 sao"
   ]
  },
  {
   "cell_type": "code",
   "execution_count": null,
   "metadata": {},
   "outputs": [],
   "source": []
  },
  {
   "cell_type": "code",
   "execution_count": null,
   "metadata": {},
   "outputs": [
    {
     "ename": "NameError",
     "evalue": "name 'TimeoutException' is not defined",
     "output_type": "error",
     "traceback": [
      "\u001b[1;31m---------------------------------------------------------------------------\u001b[0m",
      "\u001b[1;31mNoSuchElementException\u001b[0m                    Traceback (most recent call last)",
      "\u001b[1;32m~\\AppData\\Local\\Temp\\ipykernel_10568\\4294965260.py\u001b[0m in \u001b[0;36mscrape_reviews\u001b[1;34m(url)\u001b[0m\n\u001b[0;32m     31\u001b[0m             \u001b[1;31m# Tìm nút \"Next\" để sang trang tiếp theo\u001b[0m\u001b[1;33m\u001b[0m\u001b[1;33m\u001b[0m\u001b[0m\n\u001b[1;32m---> 32\u001b[1;33m             \u001b[0mnext_button\u001b[0m \u001b[1;33m=\u001b[0m \u001b[0mdriver\u001b[0m\u001b[1;33m.\u001b[0m\u001b[0mfind_element\u001b[0m\u001b[1;33m(\u001b[0m\u001b[0mBy\u001b[0m\u001b[1;33m.\u001b[0m\u001b[0mXPATH\u001b[0m\u001b[1;33m,\u001b[0m \u001b[1;34m'//li[@class=\"a-last\"]/a'\u001b[0m\u001b[1;33m)\u001b[0m\u001b[1;33m\u001b[0m\u001b[1;33m\u001b[0m\u001b[0m\n\u001b[0m\u001b[0;32m     33\u001b[0m             \u001b[0mnext_button\u001b[0m\u001b[1;33m.\u001b[0m\u001b[0mclick\u001b[0m\u001b[1;33m(\u001b[0m\u001b[1;33m)\u001b[0m\u001b[1;33m\u001b[0m\u001b[1;33m\u001b[0m\u001b[0m\n",
      "\u001b[1;32mc:\\Users\\Admin\\anaconda3\\lib\\site-packages\\selenium\\webdriver\\remote\\webdriver.py\u001b[0m in \u001b[0;36mfind_element\u001b[1;34m(self, by, value)\u001b[0m\n\u001b[0;32m    747\u001b[0m                 \u001b[0mmy_timeouts\u001b[0m\u001b[1;33m.\u001b[0m\u001b[0mimplicit_wait\u001b[0m \u001b[1;33m=\u001b[0m \u001b[1;36m10\u001b[0m\u001b[1;33m\u001b[0m\u001b[1;33m\u001b[0m\u001b[0m\n\u001b[1;32m--> 748\u001b[1;33m                 \u001b[0mdriver\u001b[0m\u001b[1;33m.\u001b[0m\u001b[0mtimeouts\u001b[0m \u001b[1;33m=\u001b[0m \u001b[0mmy_timeouts\u001b[0m\u001b[1;33m\u001b[0m\u001b[1;33m\u001b[0m\u001b[0m\n\u001b[0m\u001b[0;32m    749\u001b[0m         \"\"\"\n",
      "\u001b[1;32mc:\\Users\\Admin\\anaconda3\\lib\\site-packages\\selenium\\webdriver\\remote\\webdriver.py\u001b[0m in \u001b[0;36mexecute\u001b[1;34m(self, driver_command, params)\u001b[0m\n\u001b[0;32m    353\u001b[0m             \u001b[1;32mif\u001b[0m \u001b[1;34m\"element-6066-11e4-a52e-4f735466cecf\"\u001b[0m \u001b[1;32min\u001b[0m \u001b[0mvalue\u001b[0m\u001b[1;33m:\u001b[0m\u001b[1;33m\u001b[0m\u001b[1;33m\u001b[0m\u001b[0m\n\u001b[1;32m--> 354\u001b[1;33m                 \u001b[1;32mreturn\u001b[0m \u001b[0mself\u001b[0m\u001b[1;33m.\u001b[0m\u001b[0mcreate_web_element\u001b[0m\u001b[1;33m(\u001b[0m\u001b[0mvalue\u001b[0m\u001b[1;33m[\u001b[0m\u001b[1;34m\"element-6066-11e4-a52e-4f735466cecf\"\u001b[0m\u001b[1;33m]\u001b[0m\u001b[1;33m)\u001b[0m\u001b[1;33m\u001b[0m\u001b[1;33m\u001b[0m\u001b[0m\n\u001b[0m\u001b[0;32m    355\u001b[0m             \u001b[1;32mif\u001b[0m \u001b[1;34m\"shadow-6066-11e4-a52e-4f735466cecf\"\u001b[0m \u001b[1;32min\u001b[0m \u001b[0mvalue\u001b[0m\u001b[1;33m:\u001b[0m\u001b[1;33m\u001b[0m\u001b[1;33m\u001b[0m\u001b[0m\n",
      "\u001b[1;32mc:\\Users\\Admin\\anaconda3\\lib\\site-packages\\selenium\\webdriver\\remote\\errorhandler.py\u001b[0m in \u001b[0;36mcheck_response\u001b[1;34m(self, response)\u001b[0m\n\u001b[0;32m    228\u001b[0m                 \u001b[0malert_text\u001b[0m \u001b[1;33m=\u001b[0m \u001b[0mvalue\u001b[0m\u001b[1;33m[\u001b[0m\u001b[1;34m\"data\"\u001b[0m\u001b[1;33m]\u001b[0m\u001b[1;33m.\u001b[0m\u001b[0mget\u001b[0m\u001b[1;33m(\u001b[0m\u001b[1;34m\"text\"\u001b[0m\u001b[1;33m)\u001b[0m\u001b[1;33m\u001b[0m\u001b[1;33m\u001b[0m\u001b[0m\n\u001b[1;32m--> 229\u001b[1;33m             \u001b[1;32melif\u001b[0m \u001b[1;34m\"alert\"\u001b[0m \u001b[1;32min\u001b[0m \u001b[0mvalue\u001b[0m\u001b[1;33m:\u001b[0m\u001b[1;33m\u001b[0m\u001b[1;33m\u001b[0m\u001b[0m\n\u001b[0m\u001b[0;32m    230\u001b[0m                 \u001b[0malert_text\u001b[0m \u001b[1;33m=\u001b[0m \u001b[0mvalue\u001b[0m\u001b[1;33m[\u001b[0m\u001b[1;34m\"alert\"\u001b[0m\u001b[1;33m]\u001b[0m\u001b[1;33m.\u001b[0m\u001b[0mget\u001b[0m\u001b[1;33m(\u001b[0m\u001b[1;34m\"text\"\u001b[0m\u001b[1;33m)\u001b[0m\u001b[1;33m\u001b[0m\u001b[1;33m\u001b[0m\u001b[0m\n",
      "\u001b[1;31mNoSuchElementException\u001b[0m: Message: no such element: Unable to locate element: {\"method\":\"xpath\",\"selector\":\"//li[@class=\"a-last\"]/a\"}\n  (Session info: chrome=131.0.6778.86); For documentation on this error, please visit: https://www.selenium.dev/documentation/webdriver/troubleshooting/errors#no-such-element-exception\nStacktrace:\n\tGetHandleVerifier [0x00007FF676FD6CB5+28821]\n\t(No symbol) [0x00007FF676F43840]\n\t(No symbol) [0x00007FF676DE578A]\n\t(No symbol) [0x00007FF676E391BE]\n\t(No symbol) [0x00007FF676E394AC]\n\t(No symbol) [0x00007FF676E82647]\n\t(No symbol) [0x00007FF676E5F33F]\n\t(No symbol) [0x00007FF676E7F412]\n\t(No symbol) [0x00007FF676E5F0A3]\n\t(No symbol) [0x00007FF676E2A778]\n\t(No symbol) [0x00007FF676E2B8E1]\n\tGetHandleVerifier [0x00007FF67730FCAD+3408013]\n\tGetHandleVerifier [0x00007FF67732741F+3504127]\n\tGetHandleVerifier [0x00007FF67731B5FD+3455453]\n\tGetHandleVerifier [0x00007FF67709BDBB+835995]\n\t(No symbol) [0x00007FF676F4EB5F]\n\t(No symbol) [0x00007FF676F4A814]\n\t(No symbol) [0x00007FF676F4A9AD]\n\t(No symbol) [0x00007FF676F3A199]\n\tBaseThreadInitThunk [0x00007FFE20527374+20]\n\tRtlUserThreadStart [0x00007FFE2151CC91+33]\n",
      "\nDuring handling of the above exception, another exception occurred:\n",
      "\u001b[1;31mNameError\u001b[0m                                 Traceback (most recent call last)",
      "\u001b[1;32m~\\AppData\\Local\\Temp\\ipykernel_10568\\4294965260.py\u001b[0m in \u001b[0;36m<module>\u001b[1;34m\u001b[0m\n\u001b[0;32m     44\u001b[0m \u001b[1;33m\u001b[0m\u001b[0m\n\u001b[0;32m     45\u001b[0m \u001b[1;31m# Chạy hàm và lưu kết quả\u001b[0m\u001b[1;33m\u001b[0m\u001b[1;33m\u001b[0m\u001b[0m\n\u001b[1;32m---> 46\u001b[1;33m \u001b[0mreviews_data\u001b[0m \u001b[1;33m=\u001b[0m \u001b[0mscrape_reviews\u001b[0m\u001b[1;33m(\u001b[0m\u001b[0murl\u001b[0m\u001b[1;33m)\u001b[0m\u001b[1;33m\u001b[0m\u001b[1;33m\u001b[0m\u001b[0m\n\u001b[0m\u001b[0;32m     47\u001b[0m \u001b[1;33m\u001b[0m\u001b[0m\n\u001b[0;32m     48\u001b[0m \u001b[1;31m# Hiển thị dữ liệu cào được\u001b[0m\u001b[1;33m\u001b[0m\u001b[1;33m\u001b[0m\u001b[0m\n",
      "\u001b[1;32m~\\AppData\\Local\\Temp\\ipykernel_10568\\4294965260.py\u001b[0m in \u001b[0;36mscrape_reviews\u001b[1;34m(url)\u001b[0m\n\u001b[0;32m     34\u001b[0m             \u001b[0mtime\u001b[0m\u001b[1;33m.\u001b[0m\u001b[0msleep\u001b[0m\u001b[1;33m(\u001b[0m\u001b[1;36m3\u001b[0m\u001b[1;33m)\u001b[0m  \u001b[1;31m# Đợi tải trang\u001b[0m\u001b[1;33m\u001b[0m\u001b[1;33m\u001b[0m\u001b[0m\n\u001b[0;32m     35\u001b[0m \u001b[1;33m\u001b[0m\u001b[0m\n\u001b[1;32m---> 36\u001b[1;33m         \u001b[1;32mexcept\u001b[0m \u001b[0mTimeoutException\u001b[0m\u001b[1;33m:\u001b[0m\u001b[1;33m\u001b[0m\u001b[1;33m\u001b[0m\u001b[0m\n\u001b[0m\u001b[0;32m     37\u001b[0m             \u001b[0mprint\u001b[0m\u001b[1;33m(\u001b[0m\u001b[1;34m\"Đã cào hết dữ liệu hoặc không tìm thấy nút 'Next'.\"\u001b[0m\u001b[1;33m)\u001b[0m\u001b[1;33m\u001b[0m\u001b[1;33m\u001b[0m\u001b[0m\n\u001b[0;32m     38\u001b[0m             \u001b[1;32mbreak\u001b[0m\u001b[1;33m\u001b[0m\u001b[1;33m\u001b[0m\u001b[0m\n",
      "\u001b[1;31mNameError\u001b[0m: name 'TimeoutException' is not defined"
     ]
    }
   ],
   "source": []
  },
  {
   "cell_type": "code",
   "execution_count": 18,
   "metadata": {},
   "outputs": [
    {
     "data": {
      "text/plain": [
       "'Shark AI Ultra Voice Control Robot Vacuum with Matrix Clean Navigation, Home Mapping, 60-Day Capacity, Self-Empty Base for Homes with Pets, Carpet & Hard Floors (Silver/Black)'"
      ]
     },
     "execution_count": 18,
     "metadata": {},
     "output_type": "execute_result"
    }
   ],
   "source": [
    "product_title"
   ]
  },
  {
   "cell_type": "code",
   "execution_count": 23,
   "metadata": {},
   "outputs": [],
   "source": [
    "sale_price = driver.find_element(By.XPATH, '//*[@id=\"corePriceDisplay_desktop_feature_div\"]/div[1]/span[3]/span[2]')"
   ]
  },
  {
   "cell_type": "code",
   "execution_count": 25,
   "metadata": {},
   "outputs": [
    {
     "data": {
      "text/plain": [
       "'$329\\n99'"
      ]
     },
     "execution_count": 25,
     "metadata": {},
     "output_type": "execute_result"
    }
   ],
   "source": [
    "sale_price.text"
   ]
  },
  {
   "cell_type": "code",
   "execution_count": 29,
   "metadata": {},
   "outputs": [
    {
     "data": {
      "text/plain": [
       "'$599.00'"
      ]
     },
     "execution_count": 29,
     "metadata": {},
     "output_type": "execute_result"
    }
   ],
   "source": [
    "full_price = driver.find_element(By.XPATH, '//*[@id=\"corePriceDisplay_desktop_feature_div\"]/div[2]/span/span[1]/span[2]/span/span[2]').text\n",
    "full_price"
   ]
  },
  {
   "cell_type": "code",
   "execution_count": 31,
   "metadata": {},
   "outputs": [
    {
     "data": {
      "text/plain": [
       "'32,142 ratings'"
      ]
     },
     "execution_count": 31,
     "metadata": {},
     "output_type": "execute_result"
    }
   ],
   "source": [
    "rating_count = driver.find_element(By.XPATH, '//*[@id=\"acrCustomerReviewText\"]').text\n",
    "rating_count"
   ]
  },
  {
   "cell_type": "code",
   "execution_count": 34,
   "metadata": {},
   "outputs": [],
   "source": [
    "star_ratings = {}\n",
    "\n",
    "# Tạo một vòng lặp từ 5 đến 1 (vì sao giảm dần)\n",
    "for i in range(5, 0, -1):\n",
    "    try:\n",
    "        # Lấy số sao từ mỗi phần tử histogram\n",
    "        star_count = driver.find_element(By.XPATH, f'//*[@id=\"histogramTable\"]/li[{i}]/span/a/div[3]').text\n",
    "        # Đặt tên cho key của dictionary (vd: star_5, star_4, ...)\n",
    "        star_ratings[f'star_{i}'] = star_count\n",
    "    except Exception as e:\n",
    "        # Bắt lỗi nếu không tìm thấy phần tử và in ra lỗi\n",
    "        print(f\"Could not find star rating for {i} stars: {e}\")\n"
   ]
  },
  {
   "cell_type": "code",
   "execution_count": 35,
   "metadata": {},
   "outputs": [
    {
     "data": {
      "text/plain": [
       "{'star_5': '9%',\n",
       " 'star_4': '5%',\n",
       " 'star_3': '6%',\n",
       " 'star_2': '14%',\n",
       " 'star_1': '66%'}"
      ]
     },
     "execution_count": 35,
     "metadata": {},
     "output_type": "execute_result"
    }
   ],
   "source": [
    "star_ratings"
   ]
  },
  {
   "cell_type": "code",
   "execution_count": 37,
   "metadata": {},
   "outputs": [
    {
     "data": {
      "text/plain": [
       "'4.2'"
      ]
     },
     "execution_count": 37,
     "metadata": {},
     "output_type": "execute_result"
    }
   ],
   "source": [
    "average_rating = driver.find_element(By.XPATH,'//*[@id=\"acrPopover\"]/span[1]/a/span').text \n",
    "average_rating"
   ]
  },
  {
   "cell_type": "code",
   "execution_count": 40,
   "metadata": {},
   "outputs": [
    {
     "data": {
      "text/plain": [
       "'8.43\"L x 13.08\"W x 13.9\"H'"
      ]
     },
     "execution_count": 40,
     "metadata": {},
     "output_type": "execute_result"
    }
   ],
   "source": [
    "special_feature = driver.find_element(By.XPATH, '//*[@id=\"productOverview_feature_div\"]/div[1]/table/tbody/tr[3]/td[2]/span[1]/span/span[2]').text\n",
    "model_name = driver.find_element(By.XPATH, '//*[@id=\"productOverview_feature_div\"]/div[1]/table/tbody/tr[2]/td[2]/span').text\n",
    "product_color= driver.find_element(By.XPATH, '//*[@id=\"productOverview_feature_div\"]/div[1]/table/tbody/tr[4]/td[2]/span').text\n",
    "product_dimensions = driver.find_element(By.XPATH, '//*[@id=\"productOverview_feature_div\"]/div[1]/table/tbody/tr[5]/td[2]/span').text"
   ]
  },
  {
   "cell_type": "code",
   "execution_count": 44,
   "metadata": {},
   "outputs": [
    {
     "data": {
      "text/plain": [
       "'Shark'"
      ]
     },
     "execution_count": 44,
     "metadata": {},
     "output_type": "execute_result"
    }
   ],
   "source": [
    "brand = driver.find_element(By.XPATH, '//*[@id=\"productOverview_feature_div\"]/div[1]/table/tbody/tr[1]/td[2]/span').text \n",
    "brand"
   ]
  },
  {
   "cell_type": "code",
   "execution_count": 46,
   "metadata": {},
   "outputs": [
    {
     "data": {
      "text/plain": [
       "'Shark'"
      ]
     },
     "execution_count": 46,
     "metadata": {},
     "output_type": "execute_result"
    }
   ],
   "source": [
    "surface_recommendation = driver.find_element(By.XPATH, '//*[@id=\"productOverview_feature_div\"]/div[1]/table/tbody/tr[1]/td[2]/span').text\n",
    "surface_recommendation"
   ]
  },
  {
   "cell_type": "code",
   "execution_count": 47,
   "metadata": {},
   "outputs": [
    {
     "name": "stdout",
     "output_type": "stream",
     "text": [
      "Brand: Shark\n",
      "Model Name: AI Ultra\n",
      "Special Feature: Smart Mapping, Self-Emptying, Bagless, Pet Hair Pick Up, Obstacle Avoidance, Lightweight, LiDAR Navigation\n",
      "Color: Gray, White, Black\n",
      "Product Dimensions: 8.43\"L x 13.08\"W x 13.9\"H\n",
      "Included Components: (2) Side Brushes, Filter, Shark AI Robot, XL Self-Empty Base\n",
      "Filter Type: Cartridge\n",
      "Battery Life: 120 minutes\n",
      "Voltage: 120 Volts\n",
      "Capacity: 0.27 Gallons\n",
      "Power Source: Battery Powered\n",
      "Are Batteries Included: Yes\n",
      "Control Method: Voice\n",
      "Compatible Devices: Google Assistant, Amazon Alexa\n",
      "Form Factor: Robotic\n",
      "Global Trade Identification Number: 10622356588314\n",
      "UPC: 622356588317\n",
      "Item Weight: 15.25 pounds\n",
      "Manufacturer: SharkNinja\n",
      "ASIN: B09T4YZGQR\n",
      "Country of Origin: China\n",
      "Item model number: AV2511AE\n",
      "Batteries: 1 Lithium Ion batteries required. (included)\n",
      "Customer Reviews: 4.2\n",
      "32,142 ratings\n",
      "4.2 out of 5 stars\n",
      "Best Sellers Rank: #18,792 in Home & Kitchen (See Top 100 in Home & Kitchen)\n",
      "#27 in Robotic Vacuums\n",
      "Number of pieces: 5\n",
      "Warranty Description: 1 year limited warranty.\n",
      "Batteries required: Yes\n"
     ]
    }
   ],
   "source": [
    "\n",
    "# Tìm bảng theo XPath\n",
    "table = driver.find_element(By.XPATH, '//*[@id=\"productDetails_detailBullets_sections1\"]')\n",
    "\n",
    "# Lấy tất cả các hàng trong bảng\n",
    "rows = table.find_elements(By.TAG_NAME, \"tr\")\n",
    "\n",
    "# Duyệt qua các hàng và cột để lấy dữ liệu\n",
    "for row in rows:\n",
    "    # Lấy tiêu đề (th) của hàng\n",
    "    header = row.find_element(By.TAG_NAME, \"th\").text\n",
    "    # Lấy giá trị (td) của hàng\n",
    "    value = row.find_element(By.TAG_NAME, \"td\").text\n",
    "    print(f\"{header}: {value}\")"
   ]
  },
  {
   "cell_type": "code",
   "execution_count": null,
   "metadata": {},
   "outputs": [],
   "source": []
  }
 ],
 "metadata": {
  "kernelspec": {
   "display_name": "base",
   "language": "python",
   "name": "python3"
  },
  "language_info": {
   "codemirror_mode": {
    "name": "ipython",
    "version": 3
   },
   "file_extension": ".py",
   "mimetype": "text/x-python",
   "name": "python",
   "nbconvert_exporter": "python",
   "pygments_lexer": "ipython3",
   "version": "3.9.13"
  }
 },
 "nbformat": 4,
 "nbformat_minor": 2
}
