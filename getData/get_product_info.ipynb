{
 "cells": [
  {
   "cell_type": "code",
   "execution_count": 1,
   "metadata": {},
   "outputs": [],
   "source": [
    "import pandas as pd\n",
    "import requests\n"
   ]
  },
  {
   "cell_type": "code",
   "execution_count": 12,
   "metadata": {},
   "outputs": [],
   "source": [
    "# Đọc file CSV chứa các ASIN\n",
    "asin_file = 'unique_asin.csv'\n",
    "df = pd.read_csv(asin_file)\n",
    "\n",
    "# Lấy danh sách các ASIN\n",
    "asin_list = df['ASIN'].tolist()"
   ]
  },
  {
   "cell_type": "markdown",
   "metadata": {},
   "source": []
  },
  {
   "cell_type": "markdown",
   "metadata": {},
   "source": []
  },
  {
   "cell_type": "markdown",
   "metadata": {},
   "source": []
  },
  {
   "cell_type": "markdown",
   "metadata": {},
   "source": []
  },
  {
   "cell_type": "markdown",
   "metadata": {},
   "source": []
  },
  {
   "cell_type": "code",
   "execution_count": null,
   "metadata": {},
   "outputs": [],
   "source": []
  },
  {
   "cell_type": "code",
   "execution_count": null,
   "metadata": {},
   "outputs": [],
   "source": [
    "\n",
    "\n",
    "# # Tạo query GraphQL động\n",
    "# def create_graphql_query(asin_list):\n",
    "#     query = \"query multipleAmazonProducts {\\n\"\n",
    "    \n",
    "#     for i, asin in enumerate(asin_list):\n",
    "#         query += f\"\"\"\n",
    "#         product{i+1}: amazonProduct(input: {{ asinLookup: {{ asin: \"{asin}\" }} }}) {{\n",
    "#             reviewsTotal\n",
    "#             reviewsPaginated(input: {{ page: 1 }}) {{\n",
    "#               reviews {{\n",
    "#                 title\n",
    "#                 body\n",
    "#                 rating\n",
    "#                 helpfulVotes\n",
    "#                 reviewer {{\n",
    "#                   name\n",
    "#                 }}\n",
    "#               }}\n",
    "#             }}\n",
    "#         }}\\n\"\"\"\n",
    "    \n",
    "#     query += \"}\"\n",
    "#     return query\n",
    "\n",
    "# # Tạo query từ danh sách ASIN\n",
    "# graphql_query = create_graphql_query(asin_list)\n",
    "\n",
    "# # Define the URL of the GraphQL endpoint\n",
    "# url = 'https://graphql.canopyapi.co/'\n",
    "\n",
    "# # Define the headers\n",
    "# headers = {\n",
    "#     'Content-Type': 'application/json',\n",
    "#     'API-KEY': 'cc52e86c-07ae-4b3a-a14c-d2ed2c93edc4',  # Thay thế bằng API Key của bạn\n",
    "# }\n",
    "\n",
    "# # Define the request payload\n",
    "# payload = {\n",
    "#     'query': graphql_query\n",
    "# }\n",
    "\n",
    "# # Gửi yêu cầu POST đến GraphQL endpoint\n",
    "# response = requests.post(url, json=payload, headers=headers)\n",
    "\n",
    "# # Kiểm tra phản hồi\n",
    "# if response.status_code == 200:\n",
    "#     data = response.json()\n",
    "#     print(data)\n",
    "# else:\n",
    "#     print(f\"Query failed with status code {response.status_code}\")\n",
    "#     print(f\"Response: {response.text}\")\n"
   ]
  },
  {
   "cell_type": "code",
   "execution_count": 7,
   "metadata": {},
   "outputs": [
    {
     "data": {
      "text/plain": [
       "344"
      ]
     },
     "execution_count": 7,
     "metadata": {},
     "output_type": "execute_result"
    }
   ],
   "source": [
    "len(asin_list)"
   ]
  },
  {
   "cell_type": "markdown",
   "metadata": {},
   "source": [
    "## TEST với 1 sản phẩm "
   ]
  },
  {
   "cell_type": "code",
   "execution_count": 11,
   "metadata": {},
   "outputs": [
    {
     "name": "stdout",
     "output_type": "stream",
     "text": [
      "{'data': {'amazonProduct': {'asin': 'B08QZVSC8D', 'title': 'Shark AV2501AE AI Robot Vacuum with XL HEPA Self-Empty Base, Bagless, 60-Day Capacity, LIDAR Navigation, Perfect for Pet Hair, Compatible with Alexa, Wi-Fi Connected, Carpet & Hard Floor, Black AI Dry', 'subtitle': 'Visit the Shark Store', 'brand': 'Shark', 'featureBullets': ['INCREDIBLE SUCTION: Powerful Shark suction picks up dirt and debris on all floor types—tackling even the toughest of messes in your home.', 'NO SPOTS MISSED: With Matrix Clean Navigation, the vacuum cleans in a precise matrix grid taking multiple passes over dirt and debris for whole home, deep cleaning coverage.', 'IT EMPTIES ITSELF: The bagless, self-emptying base holds up to 60 days of dirt and debris while its true HEPA filtration captures and traps 99.97%* of dust and allergens (*down to .3 microns).', 'PRECISION HOME MAPPING: 360° LiDAR vision quickly and accurately maps your home so your robot can methodically clean detecting and avoiding objects in its path, day or night, adapting to everyday changes in the home.', 'PERFECT FOR HOMES WITH PETS: With powerful vacuum suction, Shark’s self-cleaning brushroll, and HEPA filtration system the robot captures pet hair, dust, dander and allergens with ease.', 'HANDS-FREE CONTROL: Set a cleaning schedule, initiate on-demand cleaning, or activate cleans all with sound of your voice using Amazon Alexa or Google Assistant.', 'EXTENDED RUNTIME: Up to 120 minutes of runtime for whole-home cleaning. And with Recharge and Resume, the robot will return to the dock, recharge, and can pick up where it left off.', 'BUILT, TESTED, AND PERFECTED: Shark puts their robots through rigorous testing to guarantee reliable, and high-quality performance.', 'WHAT’S INCLUDED: 1 Shark AI Ultra Robot, 1 XL HEPA Self-Empty Base, and 2 Side Brushes.'], 'price': {'value': 299.99}, 'isNew': True, 'isPrime': True, 'recommendedRetailPrice': {'value': 649.99}, 'ratingsTotal': 3365, 'rating': 4.2, 'bestSellerRankings': [{'categoryName': 'Home & Kitchen', 'rank': 7035}, {'categoryName': 'Robotic Vacuums', 'rank': 12}], 'ratingsBreakdown': {'oneStarRatingsCount': 403, 'twoStarRatingsCount': 134, 'threeStarRatingsCount': 201, 'fourStarRatingsCount': 504, 'fiveStarRatingsCount': 2153}, 'technicalSpecifications': [{'name': 'Brand', 'value': 'Shark'}, {'name': 'Model Name', 'value': 'Shark AV2501AE'}, {'name': 'Special Feature', 'value': 'LiDAR Navigation, Bagless'}, {'name': 'Color', 'value': 'Black/Bronze'}, {'name': 'Product Dimensions', 'value': '13.08\"L x 8.43\"W x 13.9\"H'}, {'name': 'Customer Reviews', 'value': '4.2    4.2 out of 5 stars         3,365 ratings          4.2 out of 5 stars'}, {'name': 'Best Sellers Rank', 'value': '#7,035 in Home & Kitchen (See Top 100 in Home & Kitchen) #12 in Robotic Vacuums'}, {'name': 'ASIN', 'value': 'B08QZVSC8D'}, {'name': 'Style Number', 'value': 'AV2501AE'}, {'name': 'UPC', 'value': '622356574488'}, {'name': 'Brand Name', 'value': 'Shark'}, {'name': 'Included Components', 'value': '2 Side Brushes, XL HEPA Filter, 1 Filter, Shark AI Robot, Self-Empty Base'}, {'name': 'Power Source', 'value': 'Battery Powered'}, {'name': 'Batteries are Included', 'value': 'Yes'}, {'name': 'Compatible Devices', 'value': 'Amazon Echo, Google Home'}, {'name': 'Form Factor', 'value': 'Robotic'}, {'name': 'Control Method', 'value': 'Voice'}, {'name': 'Filter Type', 'value': 'Foam'}, {'name': 'Battery Life', 'value': '120 minutes'}, {'name': 'Battery Type', 'value': 'Lithium Ion'}, {'name': 'Surface Recommendation', 'value': 'Hard Floor,Carpet'}, {'name': 'Special Features', 'value': 'LiDAR Navigation, Bagless'}, {'name': 'Controller Type', 'value': 'App Control, Voice Control'}, {'name': 'Item Weight', 'value': '15.2 Pounds'}, {'name': 'Item Dimensions L x W x H', 'value': '13.08\"L x 8.43\"W x 13.9\"H'}], 'url': 'https://www.amazon.com/Shark-Mapping-Capacity-Bagless-AV2501AE/dp/B08QZVSC8D', 'categories': [{'name': 'Home & Kitchen', 'subcategories': []}, {'name': 'Vacuums & Floor Care', 'subcategories': [{'name': 'Vacuums'}, {'name': 'Floor Buffers & Parts'}, {'name': 'Carpet & Upholstery Cleaners & Accessories'}, {'name': 'Steam Cleaners, Steam Mops & Accessories'}]}, {'name': 'Vacuums', 'subcategories': [{'name': 'Canister Vacuums'}, {'name': 'Upright Vacuums'}, {'name': 'Robotic Vacuums'}, {'name': 'Central Vacuum Systems'}]}, {'name': 'Robotic Vacuums', 'subcategories': []}], 'stockEstimate': {'inStock': True, 'stockLevel': 999, 'availabilityMessage': 'In Stock'}, 'salesEstimate': {'weeklyUnitSales': 630, 'monthlyUnitSales': 2523, 'annualUnitSales': 30276}}}}\n"
     ]
    }
   ],
   "source": [
    "import requests\n",
    "\n",
    "# URL của Canopy API\n",
    "url = 'https://graphql.canopyapi.co/'  # Thay đổi URL này nếu Canopy API có endpoint khác\n",
    "\n",
    "# Truy vấn GraphQL\n",
    "query = \"\"\"\n",
    "query amazonProduct {\n",
    "  amazonProduct(input: {asinLookup: {asin: \"B08QZVSC8D\"}}) {\n",
    "    asin\n",
    "    title\n",
    "    subtitle\n",
    "    brand\n",
    "    featureBullets\n",
    "    price {\n",
    "      value\n",
    "    }\n",
    "    isNew\n",
    "    isPrime\n",
    "    recommendedRetailPrice {\n",
    "      value\n",
    "    }\n",
    "    categories {\n",
    "      name\n",
    "      subcategories {\n",
    "        name\n",
    "      }\n",
    "    }\n",
    "    ratingsTotal\n",
    "    rating\n",
    "    bestSellerRankings {\n",
    "      categoryName\n",
    "      rank\n",
    "    }\n",
    "    ratingsBreakdown {\n",
    "      oneStarRatingsCount\n",
    "      twoStarRatingsCount\n",
    "      threeStarRatingsCount\n",
    "      fourStarRatingsCount\n",
    "      fiveStarRatingsCount\n",
    "    }\n",
    "    technicalSpecifications {\n",
    "      name\n",
    "      value\n",
    "    }\n",
    "    stockEstimate {\n",
    "      inStock\n",
    "      stockLevel\n",
    "      availabilityMessage\n",
    "    }\n",
    "    salesEstimate {\n",
    "      weeklyUnitSales\n",
    "      monthlyUnitSales\n",
    "      annualUnitSales\n",
    "    }\n",
    "    url\n",
    "  }\n",
    "}\n",
    "\"\"\"\n",
    "\n",
    "# Thay YOUR_API_KEY bằng API key của bạn\n",
    "headers = {\n",
    "    'Content-Type': 'application/json',\n",
    "    'API-KEY': 'cc52e86c-07ae-4b3a-a14c-d2ed2c93edc4',  # Thay thế bằng API Key của bạn\n",
    "}\n",
    "\n",
    "# Thực hiện yêu cầu tới Canopy API\n",
    "response = requests.post(url, json={\"query\": query}, headers=headers)\n",
    "\n",
    "# Kiểm tra phản hồi từ API\n",
    "if response.status_code == 200:\n",
    "    data = response.json()\n",
    "    print(data)  # In ra dữ liệu JSON từ API\n",
    "else:\n",
    "    print(f\"Yêu cầu thất bại với mã lỗi: {response.status_code}\")\n",
    "    print(response.text)\n"
   ]
  },
  {
   "cell_type": "code",
   "execution_count": null,
   "metadata": {},
   "outputs": [],
   "source": []
  }
 ],
 "metadata": {
  "kernelspec": {
   "display_name": "base",
   "language": "python",
   "name": "python3"
  },
  "language_info": {
   "codemirror_mode": {
    "name": "ipython",
    "version": 3
   },
   "file_extension": ".py",
   "mimetype": "text/x-python",
   "name": "python",
   "nbconvert_exporter": "python",
   "pygments_lexer": "ipython3",
   "version": "3.9.13"
  }
 },
 "nbformat": 4,
 "nbformat_minor": 2
}
